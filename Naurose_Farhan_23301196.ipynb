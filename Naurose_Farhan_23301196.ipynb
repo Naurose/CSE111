{
  "cells": [
    {
      "cell_type": "code",
      "execution_count": 1,
      "metadata": {
        "id": "8D76ZwBsObsS"
      },
      "outputs": [
        {
          "ename": "ModuleNotFoundError",
          "evalue": "No module named 'sympy'",
          "output_type": "error",
          "traceback": [
            "\u001b[1;31m---------------------------------------------------------------------------\u001b[0m",
            "\u001b[1;31mModuleNotFoundError\u001b[0m                       Traceback (most recent call last)",
            "Cell \u001b[1;32mIn[1], line 1\u001b[0m\n\u001b[1;32m----> 1\u001b[0m \u001b[38;5;28;01mimport\u001b[39;00m \u001b[38;5;21;01msympy\u001b[39;00m \u001b[38;5;28;01mas\u001b[39;00m \u001b[38;5;21;01msp\u001b[39;00m\n\u001b[0;32m      2\u001b[0m \u001b[38;5;66;03m#Volume of a Cylinder: V = πr^2h\u001b[39;00m\n\u001b[0;32m      3\u001b[0m \u001b[38;5;66;03m#Surface area: 2πr(r+h)\u001b[39;00m\n",
            "\u001b[1;31mModuleNotFoundError\u001b[0m: No module named 'sympy'"
          ]
        }
      ],
      "source": [
        "import sympy as sp\n",
        "#Volume of a Cylinder: V = πr^2h\n",
        "#Surface area: 2πr(r+h)"
      ]
    },
    {
      "cell_type": "code",
      "execution_count": 2,
      "metadata": {
        "colab": {
          "base_uri": "https://localhost:8080/"
        },
        "id": "bLI-VrZVRjhn",
        "outputId": "9ad672ba-2f7c-4a1a-8a9e-fe9f7d9d75ed"
      },
      "outputs": [
        {
          "ename": "NameError",
          "evalue": "name 'sp' is not defined",
          "output_type": "error",
          "traceback": [
            "\u001b[1;31m---------------------------------------------------------------------------\u001b[0m",
            "\u001b[1;31mNameError\u001b[0m                                 Traceback (most recent call last)",
            "Cell \u001b[1;32mIn[2], line 20\u001b[0m\n\u001b[0;32m     16\u001b[0m     max_volume \u001b[38;5;241m=\u001b[39m volume\u001b[38;5;241m.\u001b[39msubs(r, r_value)\n\u001b[0;32m     18\u001b[0m     \u001b[38;5;28;01mreturn\u001b[39;00m r_value, h_value, max_volume\n\u001b[1;32m---> 20\u001b[0m surface_area \u001b[38;5;241m=\u001b[39m \u001b[38;5;241m384\u001b[39m \u001b[38;5;241m*\u001b[39m \u001b[43msp\u001b[49m\u001b[38;5;241m.\u001b[39mpi\n\u001b[0;32m     21\u001b[0m radius, height, max_volume \u001b[38;5;241m=\u001b[39m max_volume(surface_area)\n\u001b[0;32m     23\u001b[0m \u001b[38;5;28mprint\u001b[39m(\u001b[38;5;124mf\u001b[39m\u001b[38;5;124m\"\u001b[39m\u001b[38;5;124mGiven surface area: \u001b[39m\u001b[38;5;132;01m{\u001b[39;00msurface_area\u001b[38;5;132;01m}\u001b[39;00m\u001b[38;5;124m square units\u001b[39m\u001b[38;5;124m\"\u001b[39m)\n",
            "\u001b[1;31mNameError\u001b[0m: name 'sp' is not defined"
          ]
        }
      ],
      "source": [
        "def max_volume(surface_area):\n",
        "    r, h = sp.symbols('r h')\n",
        "\n",
        "    surface_area = sp.Eq(2 * sp.pi * r * (r + h), surface_area)\n",
        "    h = sp.solve(surface_area, h)[0]\n",
        "    volume = sp.pi * r**2 * h\n",
        "    dV_dr = sp.diff(volume, r)\n",
        "    c = sp.solve(dV_dr, r)\n",
        "\n",
        "    for i in c:\n",
        "       if i > 0:\n",
        "            r_value = i\n",
        "            break\n",
        "\n",
        "    h_value = h.subs(r, r_value)\n",
        "    max_volume = volume.subs(r, r_value)\n",
        "\n",
        "    return r_value, h_value, max_volume\n",
        "\n",
        "surface_area = 384 * sp.pi\n",
        "radius, height, max_volume = max_volume(surface_area)\n",
        "\n",
        "print(f\"Given surface area: {surface_area} square units\")\n",
        "print(f\"Radius: {radius:.2f} units\")\n",
        "print(f\"Height: {height:.2f} units\")\n",
        "print(f\"Maximum Volume of the Cylinder: {max_volume:.2f} cubic units\")"
      ]
    }
  ],
  "metadata": {
    "colab": {
      "provenance": []
    },
    "kernelspec": {
      "display_name": "Python 3",
      "name": "python3"
    },
    "language_info": {
      "codemirror_mode": {
        "name": "ipython",
        "version": 3
      },
      "file_extension": ".py",
      "mimetype": "text/x-python",
      "name": "python",
      "nbconvert_exporter": "python",
      "pygments_lexer": "ipython3",
      "version": "3.11.9"
    }
  },
  "nbformat": 4,
  "nbformat_minor": 0
}
